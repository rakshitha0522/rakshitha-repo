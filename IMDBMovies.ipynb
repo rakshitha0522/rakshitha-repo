{
  "nbformat": 4,
  "nbformat_minor": 0,
  "metadata": {
    "colab": {
      "provenance": [],
      "authorship_tag": "ABX9TyPgaylk2ylS8Dc65+Xdnxjq",
      "include_colab_link": true
    },
    "kernelspec": {
      "name": "python3",
      "display_name": "Python 3"
    },
    "language_info": {
      "name": "python"
    }
  },
  "cells": [
    {
      "cell_type": "markdown",
      "metadata": {
        "id": "view-in-github",
        "colab_type": "text"
      },
      "source": [
        "<a href=\"https://colab.research.google.com/github/rakshitha0522/rakshitha-repo/blob/main/IMDBMovies.ipynb\" target=\"_parent\"><img src=\"https://colab.research.google.com/assets/colab-badge.svg\" alt=\"Open In Colab\"/></a>"
      ]
    },
    {
      "cell_type": "code",
      "execution_count": 1,
      "metadata": {
        "id": "fCGRSsy7i4PU"
      },
      "outputs": [],
      "source": [
        "import requests\n",
        "from bs4 import BeautifulSoup\n",
        "import pandas as pd"
      ]
    },
    {
      "cell_type": "code",
      "source": [
        "url=requests.get('https://www.imdb.com/chart/top/',headers = {\"User-Agent\": \"Mozilla/5.0\"})\n",
        "print(url)"
      ],
      "metadata": {
        "colab": {
          "base_uri": "https://localhost:8080/"
        },
        "id": "BudFJQB0jCIq",
        "outputId": "7bf1d756-3e81-4318-b840-b9d74dd90136"
      },
      "execution_count": 2,
      "outputs": [
        {
          "output_type": "stream",
          "name": "stdout",
          "text": [
            "<Response [200]>\n"
          ]
        }
      ]
    },
    {
      "cell_type": "code",
      "source": [
        "soup=BeautifulSoup(url.content,'html.parser')"
      ],
      "metadata": {
        "id": "6RyODLEZjH6w"
      },
      "execution_count": 3,
      "outputs": []
    },
    {
      "cell_type": "code",
      "source": [
        "data = soup.find('script',id='__NEXT_DATA__')"
      ],
      "metadata": {
        "id": "WzllGOKJjMP5"
      },
      "execution_count": 4,
      "outputs": []
    },
    {
      "cell_type": "code",
      "source": [
        "data = str(data.text)\n",
        "data = data.replace('false','False')\n",
        "data = data.replace('true','True')\n",
        "data = data.replace('null','None')\n",
        "print(type(data))\n",
        "data = eval(data)"
      ],
      "metadata": {
        "colab": {
          "base_uri": "https://localhost:8080/"
        },
        "id": "UkAH2OAyjSu2",
        "outputId": "46d3bb74-c994-47a1-af09-7abf2e37fc4b"
      },
      "execution_count": 5,
      "outputs": [
        {
          "output_type": "stream",
          "name": "stdout",
          "text": [
            "<class 'str'>\n"
          ]
        }
      ]
    },
    {
      "cell_type": "code",
      "source": [
        "data_fetched = data['props']['pageProps']['pageData']['chartTitles']['edges']"
      ],
      "metadata": {
        "id": "QFMg8-lejUj7"
      },
      "execution_count": 6,
      "outputs": []
    },
    {
      "cell_type": "code",
      "source": [
        "len(data_fetched)"
      ],
      "metadata": {
        "colab": {
          "base_uri": "https://localhost:8080/"
        },
        "id": "z5B3Lb1Tjgih",
        "outputId": "189b2ac5-5712-400c-e8e5-32e7e59fc334"
      },
      "execution_count": 7,
      "outputs": [
        {
          "output_type": "execute_result",
          "data": {
            "text/plain": [
              "250"
            ]
          },
          "metadata": {},
          "execution_count": 7
        }
      ]
    },
    {
      "cell_type": "code",
      "source": [
        "movie_name = data_fetched[0]['node']['titleText']['text']\n",
        "movie_name"
      ],
      "metadata": {
        "colab": {
          "base_uri": "https://localhost:8080/",
          "height": 36
        },
        "id": "3JOnHzLXjzAq",
        "outputId": "4327caca-4512-47bb-a5ea-e7d05e3be469"
      },
      "execution_count": 8,
      "outputs": [
        {
          "output_type": "execute_result",
          "data": {
            "text/plain": [
              "'The Shawshank Redemption'"
            ],
            "application/vnd.google.colaboratory.intrinsic+json": {
              "type": "string"
            }
          },
          "metadata": {},
          "execution_count": 8
        }
      ]
    },
    {
      "cell_type": "code",
      "source": [
        "l1=[]\n",
        "for i in range(len(data_fetched)):\n",
        "    movie_name = data_fetched[i]['node']['titleText']['text']\n",
        "    l1.append(movie_name)\n",
        "print(\"movie name\",l1)"
      ],
      "metadata": {
        "colab": {
          "base_uri": "https://localhost:8080/"
        },
        "id": "thJ8ylGmj58U",
        "outputId": "e1f0ecb9-3ffd-4ece-8e8d-f4e721bc2193"
      },
      "execution_count": 9,
      "outputs": [
        {
          "output_type": "stream",
          "name": "stdout",
          "text": [
            "movie name ['The Shawshank Redemption', 'The Godfather', 'The Dark Knight', 'The Godfather Part II', '12 Angry Men', 'The Lord of the Rings: The Return of the King', \"Schindler's List\", 'Pulp Fiction', 'The Lord of the Rings: The Fellowship of the Ring', 'The Good, the Bad and the Ugly', 'Forrest Gump', 'The Lord of the Rings: The Two Towers', 'Fight Club', 'Inception', 'Star Wars: Episode V - The Empire Strikes Back', 'The Matrix', 'Goodfellas', \"One Flew Over the Cuckoo's Nest\", 'Interstellar', 'Se7en', \"It's a Wonderful Life\", 'Seven Samurai', 'The Silence of the Lambs', 'Saving Private Ryan', 'City of God', 'Life Is Beautiful', 'The Green Mile', 'Terminator 2: Judgment Day', 'Star Wars: Episode IV - A New Hope', 'Back to the Future', 'Spirited Away', 'The Pianist', 'Parasite', 'Psycho', 'Gladiator', 'The Lion King', 'The Departed', 'Spider-Man: Across the Spider-Verse', 'Whiplash', 'Grave of the Fireflies', 'American History X', 'Léon: The Professional', 'The Prestige', 'Harakiri', 'Casablanca', 'The Usual Suspects', 'The Intouchables', 'Dune: Part Two', 'Cinema Paradiso', 'Modern Times', 'Alien', 'Rear Window', 'Once Upon a Time in the West', 'Django Unchained', 'City Lights', 'Apocalypse Now', 'Memento', 'WALL·E', 'Raiders of the Lost Ark', '12th Fail', 'The Lives of Others', 'Sunset Boulevard', 'Avengers: Infinity War', 'Paths of Glory', 'Spider-Man: Into the Spider-Verse', 'Witness for the Prosecution', 'The Shining', 'The Great Dictator', 'Aliens', 'Inglourious Basterds', 'The Dark Knight Rises', 'Coco', 'Amadeus', 'Toy Story', 'Dr. Strangelove or: How I Learned to Stop Worrying and Love the Bomb', 'Oldboy', 'American Beauty', 'Avengers: Endgame', 'Das Boot', 'Braveheart', 'Good Will Hunting', 'Princess Mononoke', 'Your Name.', 'Joker', 'High and Low', '3 Idiots', 'Once Upon a Time in America', \"Singin' in the Rain\", 'Capernaum', 'Come and See', 'Requiem for a Dream', 'Toy Story 3', 'Star Wars: Episode VI - Return of the Jedi', 'The Hunt', 'Eternal Sunshine of the Spotless Mind', '2001: A Space Odyssey', 'Ikiru', 'Reservoir Dogs', 'Lawrence of Arabia', 'The Apartment', 'Incendies', 'Scarface', 'North by Northwest', 'Double Indemnity', 'Citizen Kane', 'M', 'Vertigo', 'Oppenheimer', 'Heat', 'Full Metal Jacket', 'Amélie', 'Up', 'A Clockwork Orange', 'To Kill a Mockingbird', 'A Separation', 'The Sting', 'Die Hard', 'Indiana Jones and the Last Crusade', 'Like Stars on Earth', 'Metropolis', 'Snatch', '1917', 'L.A. Confidential', 'Bicycle Thieves', 'Downfall', 'Hamilton', 'Taxi Driver', 'Dangal', 'Batman Begins', 'The Wolf of Wall Street', 'For a Few Dollars More', 'Green Book', 'Some Like It Hot', 'The Truman Show', 'Judgment at Nuremberg', 'The Kid', 'The Father', 'All About Eve', 'Shutter Island', 'There Will Be Blood', 'Jurassic Park', 'Casino', 'Top Gun: Maverick', 'The Sixth Sense', 'Ran', \"Pan's Labyrinth\", 'No Country for Old Men', 'Unforgiven', 'The Thing', 'The Wild Robot', 'A Beautiful Mind', 'Kill Bill: Vol. 1', 'The Treasure of the Sierra Madre', 'Yojimbo', 'The Great Escape', 'Finding Nemo', 'Prisoners', 'Monty Python and the Holy Grail', \"Howl's Moving Castle\", 'The Elephant Man', 'Rashomon', 'Dial M for Murder', 'Gone with the Wind', 'Chinatown', 'The Secret in Their Eyes', 'Lock, Stock and Two Smoking Barrels', 'Inside Out', 'V for Vendetta', 'Three Billboards Outside Ebbing, Missouri', 'Raging Bull', 'Trainspotting', 'The Bridge on the River Kwai', 'Klaus', 'Catch Me If You Can', 'Fargo', 'Warrior', 'Spider-Man: No Way Home', 'Gran Torino', 'Harry Potter and the Deathly Hallows: Part 2', 'Million Dollar Baby', 'My Neighbor Totoro', 'Mad Max: Fury Road', 'Children of Heaven', 'Ben-Hur', '12 Years a Slave', 'Barry Lyndon', 'Before Sunrise', 'Blade Runner', 'The Grand Budapest Hotel', 'Hacksaw Ridge', 'Gone Girl', 'Dead Poets Society', 'Memories of Murder', 'In the Name of the Father', 'Maharaja', 'The Gold Rush', 'Monsters, Inc.', 'Wild Tales', 'Ratatouille', 'The Deer Hunter', 'Jaws', 'How to Train Your Dragon', 'Sherlock Jr.', 'The General', 'Mary and Max', 'On the Waterfront', 'The Wages of Fear', 'Ford v Ferrari', 'Wild Strawberries', 'Mr. Smith Goes to Washington', 'The Third Man', 'Logan', 'Rocky', 'Tokyo Story', 'The Big Lebowski', 'The Seventh Seal', 'Room', 'Spotlight', 'The Terminator', 'Hotel Rwanda', 'Platoon', 'Pirates of the Caribbean: The Curse of the Black Pearl', 'La haine', 'Before Sunset', 'Jai Bhim', 'The Passion of Joan of Arc', 'A Man Escaped', 'The Best Years of Our Lives', 'The Exorcist', 'Rush', 'The Incredibles', 'The Wizard of Oz', 'Network', 'Stand by Me', \"Hachi: A Dog's Tale\", 'The Sound of Music', 'My Father and My Son', 'The Handmaiden', 'To Be or Not to Be', 'Into the Wild', 'The Battle of Algiers', 'The Iron Giant', 'The Grapes of Wrath', 'Groundhog Day', 'Amores Perros', 'Rebecca', 'The Help', 'Cool Hand Luke', 'Paris, Texas', 'A Silent Voice: The Movie']\n"
          ]
        }
      ]
    },
    {
      "cell_type": "code",
      "source": [
        "d={\"movie name\":l1}\n",
        "df=pd.DataFrame(d)\n",
        "df"
      ],
      "metadata": {
        "colab": {
          "base_uri": "https://localhost:8080/",
          "height": 423
        },
        "id": "VeydY1Daj-uj",
        "outputId": "4a5f6a84-d601-4461-93fc-d65078a17341"
      },
      "execution_count": 10,
      "outputs": [
        {
          "output_type": "execute_result",
          "data": {
            "text/plain": [
              "                    movie name\n",
              "0     The Shawshank Redemption\n",
              "1                The Godfather\n",
              "2              The Dark Knight\n",
              "3        The Godfather Part II\n",
              "4                 12 Angry Men\n",
              "..                         ...\n",
              "245                    Rebecca\n",
              "246                   The Help\n",
              "247             Cool Hand Luke\n",
              "248               Paris, Texas\n",
              "249  A Silent Voice: The Movie\n",
              "\n",
              "[250 rows x 1 columns]"
            ],
            "text/html": [
              "\n",
              "  <div id=\"df-28b03e6b-c585-4dfa-9bcb-98ff5a7c38c9\" class=\"colab-df-container\">\n",
              "    <div>\n",
              "<style scoped>\n",
              "    .dataframe tbody tr th:only-of-type {\n",
              "        vertical-align: middle;\n",
              "    }\n",
              "\n",
              "    .dataframe tbody tr th {\n",
              "        vertical-align: top;\n",
              "    }\n",
              "\n",
              "    .dataframe thead th {\n",
              "        text-align: right;\n",
              "    }\n",
              "</style>\n",
              "<table border=\"1\" class=\"dataframe\">\n",
              "  <thead>\n",
              "    <tr style=\"text-align: right;\">\n",
              "      <th></th>\n",
              "      <th>movie name</th>\n",
              "    </tr>\n",
              "  </thead>\n",
              "  <tbody>\n",
              "    <tr>\n",
              "      <th>0</th>\n",
              "      <td>The Shawshank Redemption</td>\n",
              "    </tr>\n",
              "    <tr>\n",
              "      <th>1</th>\n",
              "      <td>The Godfather</td>\n",
              "    </tr>\n",
              "    <tr>\n",
              "      <th>2</th>\n",
              "      <td>The Dark Knight</td>\n",
              "    </tr>\n",
              "    <tr>\n",
              "      <th>3</th>\n",
              "      <td>The Godfather Part II</td>\n",
              "    </tr>\n",
              "    <tr>\n",
              "      <th>4</th>\n",
              "      <td>12 Angry Men</td>\n",
              "    </tr>\n",
              "    <tr>\n",
              "      <th>...</th>\n",
              "      <td>...</td>\n",
              "    </tr>\n",
              "    <tr>\n",
              "      <th>245</th>\n",
              "      <td>Rebecca</td>\n",
              "    </tr>\n",
              "    <tr>\n",
              "      <th>246</th>\n",
              "      <td>The Help</td>\n",
              "    </tr>\n",
              "    <tr>\n",
              "      <th>247</th>\n",
              "      <td>Cool Hand Luke</td>\n",
              "    </tr>\n",
              "    <tr>\n",
              "      <th>248</th>\n",
              "      <td>Paris, Texas</td>\n",
              "    </tr>\n",
              "    <tr>\n",
              "      <th>249</th>\n",
              "      <td>A Silent Voice: The Movie</td>\n",
              "    </tr>\n",
              "  </tbody>\n",
              "</table>\n",
              "<p>250 rows × 1 columns</p>\n",
              "</div>\n",
              "    <div class=\"colab-df-buttons\">\n",
              "\n",
              "  <div class=\"colab-df-container\">\n",
              "    <button class=\"colab-df-convert\" onclick=\"convertToInteractive('df-28b03e6b-c585-4dfa-9bcb-98ff5a7c38c9')\"\n",
              "            title=\"Convert this dataframe to an interactive table.\"\n",
              "            style=\"display:none;\">\n",
              "\n",
              "  <svg xmlns=\"http://www.w3.org/2000/svg\" height=\"24px\" viewBox=\"0 -960 960 960\">\n",
              "    <path d=\"M120-120v-720h720v720H120Zm60-500h600v-160H180v160Zm220 220h160v-160H400v160Zm0 220h160v-160H400v160ZM180-400h160v-160H180v160Zm440 0h160v-160H620v160ZM180-180h160v-160H180v160Zm440 0h160v-160H620v160Z\"/>\n",
              "  </svg>\n",
              "    </button>\n",
              "\n",
              "  <style>\n",
              "    .colab-df-container {\n",
              "      display:flex;\n",
              "      gap: 12px;\n",
              "    }\n",
              "\n",
              "    .colab-df-convert {\n",
              "      background-color: #E8F0FE;\n",
              "      border: none;\n",
              "      border-radius: 50%;\n",
              "      cursor: pointer;\n",
              "      display: none;\n",
              "      fill: #1967D2;\n",
              "      height: 32px;\n",
              "      padding: 0 0 0 0;\n",
              "      width: 32px;\n",
              "    }\n",
              "\n",
              "    .colab-df-convert:hover {\n",
              "      background-color: #E2EBFA;\n",
              "      box-shadow: 0px 1px 2px rgba(60, 64, 67, 0.3), 0px 1px 3px 1px rgba(60, 64, 67, 0.15);\n",
              "      fill: #174EA6;\n",
              "    }\n",
              "\n",
              "    .colab-df-buttons div {\n",
              "      margin-bottom: 4px;\n",
              "    }\n",
              "\n",
              "    [theme=dark] .colab-df-convert {\n",
              "      background-color: #3B4455;\n",
              "      fill: #D2E3FC;\n",
              "    }\n",
              "\n",
              "    [theme=dark] .colab-df-convert:hover {\n",
              "      background-color: #434B5C;\n",
              "      box-shadow: 0px 1px 3px 1px rgba(0, 0, 0, 0.15);\n",
              "      filter: drop-shadow(0px 1px 2px rgba(0, 0, 0, 0.3));\n",
              "      fill: #FFFFFF;\n",
              "    }\n",
              "  </style>\n",
              "\n",
              "    <script>\n",
              "      const buttonEl =\n",
              "        document.querySelector('#df-28b03e6b-c585-4dfa-9bcb-98ff5a7c38c9 button.colab-df-convert');\n",
              "      buttonEl.style.display =\n",
              "        google.colab.kernel.accessAllowed ? 'block' : 'none';\n",
              "\n",
              "      async function convertToInteractive(key) {\n",
              "        const element = document.querySelector('#df-28b03e6b-c585-4dfa-9bcb-98ff5a7c38c9');\n",
              "        const dataTable =\n",
              "          await google.colab.kernel.invokeFunction('convertToInteractive',\n",
              "                                                    [key], {});\n",
              "        if (!dataTable) return;\n",
              "\n",
              "        const docLinkHtml = 'Like what you see? Visit the ' +\n",
              "          '<a target=\"_blank\" href=https://colab.research.google.com/notebooks/data_table.ipynb>data table notebook</a>'\n",
              "          + ' to learn more about interactive tables.';\n",
              "        element.innerHTML = '';\n",
              "        dataTable['output_type'] = 'display_data';\n",
              "        await google.colab.output.renderOutput(dataTable, element);\n",
              "        const docLink = document.createElement('div');\n",
              "        docLink.innerHTML = docLinkHtml;\n",
              "        element.appendChild(docLink);\n",
              "      }\n",
              "    </script>\n",
              "  </div>\n",
              "\n",
              "\n",
              "<div id=\"df-8938475b-1600-47b5-a6bc-83865673b1af\">\n",
              "  <button class=\"colab-df-quickchart\" onclick=\"quickchart('df-8938475b-1600-47b5-a6bc-83865673b1af')\"\n",
              "            title=\"Suggest charts\"\n",
              "            style=\"display:none;\">\n",
              "\n",
              "<svg xmlns=\"http://www.w3.org/2000/svg\" height=\"24px\"viewBox=\"0 0 24 24\"\n",
              "     width=\"24px\">\n",
              "    <g>\n",
              "        <path d=\"M19 3H5c-1.1 0-2 .9-2 2v14c0 1.1.9 2 2 2h14c1.1 0 2-.9 2-2V5c0-1.1-.9-2-2-2zM9 17H7v-7h2v7zm4 0h-2V7h2v10zm4 0h-2v-4h2v4z\"/>\n",
              "    </g>\n",
              "</svg>\n",
              "  </button>\n",
              "\n",
              "<style>\n",
              "  .colab-df-quickchart {\n",
              "      --bg-color: #E8F0FE;\n",
              "      --fill-color: #1967D2;\n",
              "      --hover-bg-color: #E2EBFA;\n",
              "      --hover-fill-color: #174EA6;\n",
              "      --disabled-fill-color: #AAA;\n",
              "      --disabled-bg-color: #DDD;\n",
              "  }\n",
              "\n",
              "  [theme=dark] .colab-df-quickchart {\n",
              "      --bg-color: #3B4455;\n",
              "      --fill-color: #D2E3FC;\n",
              "      --hover-bg-color: #434B5C;\n",
              "      --hover-fill-color: #FFFFFF;\n",
              "      --disabled-bg-color: #3B4455;\n",
              "      --disabled-fill-color: #666;\n",
              "  }\n",
              "\n",
              "  .colab-df-quickchart {\n",
              "    background-color: var(--bg-color);\n",
              "    border: none;\n",
              "    border-radius: 50%;\n",
              "    cursor: pointer;\n",
              "    display: none;\n",
              "    fill: var(--fill-color);\n",
              "    height: 32px;\n",
              "    padding: 0;\n",
              "    width: 32px;\n",
              "  }\n",
              "\n",
              "  .colab-df-quickchart:hover {\n",
              "    background-color: var(--hover-bg-color);\n",
              "    box-shadow: 0 1px 2px rgba(60, 64, 67, 0.3), 0 1px 3px 1px rgba(60, 64, 67, 0.15);\n",
              "    fill: var(--button-hover-fill-color);\n",
              "  }\n",
              "\n",
              "  .colab-df-quickchart-complete:disabled,\n",
              "  .colab-df-quickchart-complete:disabled:hover {\n",
              "    background-color: var(--disabled-bg-color);\n",
              "    fill: var(--disabled-fill-color);\n",
              "    box-shadow: none;\n",
              "  }\n",
              "\n",
              "  .colab-df-spinner {\n",
              "    border: 2px solid var(--fill-color);\n",
              "    border-color: transparent;\n",
              "    border-bottom-color: var(--fill-color);\n",
              "    animation:\n",
              "      spin 1s steps(1) infinite;\n",
              "  }\n",
              "\n",
              "  @keyframes spin {\n",
              "    0% {\n",
              "      border-color: transparent;\n",
              "      border-bottom-color: var(--fill-color);\n",
              "      border-left-color: var(--fill-color);\n",
              "    }\n",
              "    20% {\n",
              "      border-color: transparent;\n",
              "      border-left-color: var(--fill-color);\n",
              "      border-top-color: var(--fill-color);\n",
              "    }\n",
              "    30% {\n",
              "      border-color: transparent;\n",
              "      border-left-color: var(--fill-color);\n",
              "      border-top-color: var(--fill-color);\n",
              "      border-right-color: var(--fill-color);\n",
              "    }\n",
              "    40% {\n",
              "      border-color: transparent;\n",
              "      border-right-color: var(--fill-color);\n",
              "      border-top-color: var(--fill-color);\n",
              "    }\n",
              "    60% {\n",
              "      border-color: transparent;\n",
              "      border-right-color: var(--fill-color);\n",
              "    }\n",
              "    80% {\n",
              "      border-color: transparent;\n",
              "      border-right-color: var(--fill-color);\n",
              "      border-bottom-color: var(--fill-color);\n",
              "    }\n",
              "    90% {\n",
              "      border-color: transparent;\n",
              "      border-bottom-color: var(--fill-color);\n",
              "    }\n",
              "  }\n",
              "</style>\n",
              "\n",
              "  <script>\n",
              "    async function quickchart(key) {\n",
              "      const quickchartButtonEl =\n",
              "        document.querySelector('#' + key + ' button');\n",
              "      quickchartButtonEl.disabled = true;  // To prevent multiple clicks.\n",
              "      quickchartButtonEl.classList.add('colab-df-spinner');\n",
              "      try {\n",
              "        const charts = await google.colab.kernel.invokeFunction(\n",
              "            'suggestCharts', [key], {});\n",
              "      } catch (error) {\n",
              "        console.error('Error during call to suggestCharts:', error);\n",
              "      }\n",
              "      quickchartButtonEl.classList.remove('colab-df-spinner');\n",
              "      quickchartButtonEl.classList.add('colab-df-quickchart-complete');\n",
              "    }\n",
              "    (() => {\n",
              "      let quickchartButtonEl =\n",
              "        document.querySelector('#df-8938475b-1600-47b5-a6bc-83865673b1af button');\n",
              "      quickchartButtonEl.style.display =\n",
              "        google.colab.kernel.accessAllowed ? 'block' : 'none';\n",
              "    })();\n",
              "  </script>\n",
              "</div>\n",
              "\n",
              "  <div id=\"id_aa904612-0379-4865-bcec-598229bf0511\">\n",
              "    <style>\n",
              "      .colab-df-generate {\n",
              "        background-color: #E8F0FE;\n",
              "        border: none;\n",
              "        border-radius: 50%;\n",
              "        cursor: pointer;\n",
              "        display: none;\n",
              "        fill: #1967D2;\n",
              "        height: 32px;\n",
              "        padding: 0 0 0 0;\n",
              "        width: 32px;\n",
              "      }\n",
              "\n",
              "      .colab-df-generate:hover {\n",
              "        background-color: #E2EBFA;\n",
              "        box-shadow: 0px 1px 2px rgba(60, 64, 67, 0.3), 0px 1px 3px 1px rgba(60, 64, 67, 0.15);\n",
              "        fill: #174EA6;\n",
              "      }\n",
              "\n",
              "      [theme=dark] .colab-df-generate {\n",
              "        background-color: #3B4455;\n",
              "        fill: #D2E3FC;\n",
              "      }\n",
              "\n",
              "      [theme=dark] .colab-df-generate:hover {\n",
              "        background-color: #434B5C;\n",
              "        box-shadow: 0px 1px 3px 1px rgba(0, 0, 0, 0.15);\n",
              "        filter: drop-shadow(0px 1px 2px rgba(0, 0, 0, 0.3));\n",
              "        fill: #FFFFFF;\n",
              "      }\n",
              "    </style>\n",
              "    <button class=\"colab-df-generate\" onclick=\"generateWithVariable('df')\"\n",
              "            title=\"Generate code using this dataframe.\"\n",
              "            style=\"display:none;\">\n",
              "\n",
              "  <svg xmlns=\"http://www.w3.org/2000/svg\" height=\"24px\"viewBox=\"0 0 24 24\"\n",
              "       width=\"24px\">\n",
              "    <path d=\"M7,19H8.4L18.45,9,17,7.55,7,17.6ZM5,21V16.75L18.45,3.32a2,2,0,0,1,2.83,0l1.4,1.43a1.91,1.91,0,0,1,.58,1.4,1.91,1.91,0,0,1-.58,1.4L9.25,21ZM18.45,9,17,7.55Zm-12,3A5.31,5.31,0,0,0,4.9,8.1,5.31,5.31,0,0,0,1,6.5,5.31,5.31,0,0,0,4.9,4.9,5.31,5.31,0,0,0,6.5,1,5.31,5.31,0,0,0,8.1,4.9,5.31,5.31,0,0,0,12,6.5,5.46,5.46,0,0,0,6.5,12Z\"/>\n",
              "  </svg>\n",
              "    </button>\n",
              "    <script>\n",
              "      (() => {\n",
              "      const buttonEl =\n",
              "        document.querySelector('#id_aa904612-0379-4865-bcec-598229bf0511 button.colab-df-generate');\n",
              "      buttonEl.style.display =\n",
              "        google.colab.kernel.accessAllowed ? 'block' : 'none';\n",
              "\n",
              "      buttonEl.onclick = () => {\n",
              "        google.colab.notebook.generateWithVariable('df');\n",
              "      }\n",
              "      })();\n",
              "    </script>\n",
              "  </div>\n",
              "\n",
              "    </div>\n",
              "  </div>\n"
            ],
            "application/vnd.google.colaboratory.intrinsic+json": {
              "type": "dataframe",
              "variable_name": "df",
              "summary": "{\n  \"name\": \"df\",\n  \"rows\": 250,\n  \"fields\": [\n    {\n      \"column\": \"movie name\",\n      \"properties\": {\n        \"dtype\": \"string\",\n        \"num_unique_values\": 250,\n        \"samples\": [\n          \"Top Gun: Maverick\",\n          \"Schindler's List\",\n          \"Reservoir Dogs\"\n        ],\n        \"semantic_type\": \"\",\n        \"description\": \"\"\n      }\n    }\n  ]\n}"
            }
          },
          "metadata": {},
          "execution_count": 10
        }
      ]
    },
    {
      "cell_type": "code",
      "source": [
        "df.to_csv(\"movie.csv\")"
      ],
      "metadata": {
        "id": "BpQDP5F-kCan"
      },
      "execution_count": 11,
      "outputs": []
    }
  ]
}